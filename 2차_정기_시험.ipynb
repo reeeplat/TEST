{
  "cells": [
    {
      "cell_type": "markdown",
      "metadata": {},
      "source": [
        "# 구글 드라이브 연결후 데이터 짚파일 열기\n",
        "# 데이터 열어보기"
      ]
    },
    {
      "cell_type": "code",
      "execution_count": null,
      "metadata": {
        "colab": {
          "base_uri": "https://localhost:8080/"
        },
        "id": "fPAHMlfDMy_g",
        "outputId": "88522b98-0b67-4a2b-a956-28763eca3af7"
      },
      "outputs": [
        {
          "name": "stdout",
          "output_type": "stream",
          "text": [
            "Drive already mounted at /content/drive; to attempt to forcibly remount, call drive.mount(\"/content/drive\", force_remount=True).\n"
          ]
        }
      ],
      "source": [
        "from google.colab import drive\n",
        "drive.mount('/content/drive')\n"
      ]
    },
    {
      "cell_type": "code",
      "execution_count": null,
      "metadata": {
        "id": "eSXVFBkRNYjd"
      },
      "outputs": [],
      "source": [
        "zip_path = '/content/drive/MyDrive/data.zip'\n"
      ]
    },
    {
      "cell_type": "code",
      "execution_count": null,
      "metadata": {
        "colab": {
          "base_uri": "https://localhost:8080/"
        },
        "id": "Qw-vHHL3NERL",
        "outputId": "a3bde62a-d5e2-4805-fbd3-5d71fd904070"
      },
      "outputs": [
        {
          "name": "stdout",
          "output_type": "stream",
          "text": [
            "압축 해제 완료: /content/drive/MyDrive/Boostup2025/\n"
          ]
        }
      ],
      "source": [
        "import zipfile\n",
        "import os\n",
        "\n",
        "\n",
        "extract_dir = '/content/drive/MyDrive/Boostup2025/'\n",
        "\n",
        "\n",
        "os.makedirs(extract_dir, exist_ok=True)\n",
        "\n",
        "with zipfile.ZipFile(zip_path, 'r') as zip_ref:\n",
        "    zip_ref.extractall(extract_dir)\n",
        "\n",
        "print(\"압축 해제 완료:\", extract_dir)\n",
        "\n"
      ]
    },
    {
      "cell_type": "code",
      "execution_count": null,
      "metadata": {
        "id": "B2a9sPxENezu"
      },
      "outputs": [],
      "source": [
        "import pandas as pd\n",
        "import numpy as np"
      ]
    },
    {
      "cell_type": "code",
      "execution_count": null,
      "metadata": {
        "id": "I47XykdJNrEf"
      },
      "outputs": [],
      "source": [
        "df = pd.read_csv('/content/drive/MyDrive/Boostup2025/train.csv')"
      ]
    },
    {
      "cell_type": "markdown",
      "metadata": {},
      "source": [
        "#데이터 확인 결과\n",
        "- ID/Canonical_Smiles : object\n",
        "- Inhibition : float64\n",
        "목적: Canonical_Smiles라는 화학 구조 표현을 머신러닝에 사용할 수 있는 벡터로 변환하고, 이를 통해 화합물의 억제율(Inhibition) 을 예측하는 회귀 모델을 학습함"
      ]
    },
    {
      "cell_type": "code",
      "execution_count": null,
      "metadata": {
        "colab": {
          "base_uri": "https://localhost:8080/"
        },
        "id": "4jzQ621WN2tI",
        "outputId": "21f4106d-665a-46a6-8e44-ec493d1bbc4e"
      },
      "outputs": [
        {
          "name": "stdout",
          "output_type": "stream",
          "text": [
            "<class 'pandas.core.frame.DataFrame'>\n",
            "RangeIndex: 1681 entries, 0 to 1680\n",
            "Data columns (total 3 columns):\n",
            " #   Column            Non-Null Count  Dtype  \n",
            "---  ------            --------------  -----  \n",
            " 0   ID                1681 non-null   object \n",
            " 1   Canonical_Smiles  1681 non-null   object \n",
            " 2   Inhibition        1681 non-null   float64\n",
            "dtypes: float64(1), object(2)\n",
            "memory usage: 39.5+ KB\n"
          ]
        }
      ],
      "source": [
        "df.info()"
      ]
    },
    {
      "cell_type": "markdown",
      "metadata": {},
      "source": [
        "# Canonical_Smiles : 화합물 구조로 되어 있음\n"
      ]
    },
    {
      "cell_type": "code",
      "execution_count": null,
      "metadata": {
        "colab": {
          "base_uri": "https://localhost:8080/",
          "height": 363
        },
        "id": "wBdr1g3wN9tJ",
        "outputId": "9e288a57-0511-4735-d4df-8ebf6c0fdc69"
      },
      "outputs": [
        {
          "data": {
            "application/vnd.google.colaboratory.intrinsic+json": {
              "summary": "{\n  \"name\": \"df\",\n  \"rows\": 1681,\n  \"fields\": [\n    {\n      \"column\": \"ID\",\n      \"properties\": {\n        \"dtype\": \"string\",\n        \"num_unique_values\": 1681,\n        \"samples\": [\n          \"TRAIN_1604\",\n          \"TRAIN_0482\",\n          \"TRAIN_0203\"\n        ],\n        \"semantic_type\": \"\",\n        \"description\": \"\"\n      }\n    },\n    {\n      \"column\": \"Canonical_Smiles\",\n      \"properties\": {\n        \"dtype\": \"string\",\n        \"num_unique_values\": 1681,\n        \"samples\": [\n          \"CC1CC(=C(\\\\C=N\\\\N=C\\\\2/NC(=CC(=N2)C)C)C(=O)C1)O\",\n          \"Cc1sc(Br)nc1c2ccc(NS(=O)(=O)C)c(Cl)c2\",\n          \"COc1ccc(cc1)C2(CNC(=O)C(F)(F)F)CCCCC2\"\n        ],\n        \"semantic_type\": \"\",\n        \"description\": \"\"\n      }\n    },\n    {\n      \"column\": \"Inhibition\",\n      \"properties\": {\n        \"dtype\": \"number\",\n        \"std\": 26.405829818785797,\n        \"min\": 0.0,\n        \"max\": 99.38154717440024,\n        \"num_unique_values\": 1120,\n        \"samples\": [\n          7.83,\n          12.4,\n          52.25201470820889\n        ],\n        \"semantic_type\": \"\",\n        \"description\": \"\"\n      }\n    }\n  ]\n}",
              "type": "dataframe",
              "variable_name": "df"
            },
            "text/html": [
              "\n",
              "  <div id=\"df-cfae28a7-f51b-4c4f-a7cf-bedda10c0267\" class=\"colab-df-container\">\n",
              "    <div>\n",
              "<style scoped>\n",
              "    .dataframe tbody tr th:only-of-type {\n",
              "        vertical-align: middle;\n",
              "    }\n",
              "\n",
              "    .dataframe tbody tr th {\n",
              "        vertical-align: top;\n",
              "    }\n",
              "\n",
              "    .dataframe thead th {\n",
              "        text-align: right;\n",
              "    }\n",
              "</style>\n",
              "<table border=\"1\" class=\"dataframe\">\n",
              "  <thead>\n",
              "    <tr style=\"text-align: right;\">\n",
              "      <th></th>\n",
              "      <th>ID</th>\n",
              "      <th>Canonical_Smiles</th>\n",
              "      <th>Inhibition</th>\n",
              "    </tr>\n",
              "  </thead>\n",
              "  <tbody>\n",
              "    <tr>\n",
              "      <th>0</th>\n",
              "      <td>TRAIN_0000</td>\n",
              "      <td>Cl.OC1(Cc2cccc(Br)c2)CCNCC1</td>\n",
              "      <td>12.50</td>\n",
              "    </tr>\n",
              "    <tr>\n",
              "      <th>1</th>\n",
              "      <td>TRAIN_0001</td>\n",
              "      <td>Brc1ccc2OCCc3ccnc1c23</td>\n",
              "      <td>4.45</td>\n",
              "    </tr>\n",
              "    <tr>\n",
              "      <th>2</th>\n",
              "      <td>TRAIN_0002</td>\n",
              "      <td>CC1(CO)CC(=NO1)c2cc(c(F)cc2Cl)[N+](=O)[O-]</td>\n",
              "      <td>4.92</td>\n",
              "    </tr>\n",
              "    <tr>\n",
              "      <th>3</th>\n",
              "      <td>TRAIN_0003</td>\n",
              "      <td>Fc1ccc2nc(Nc3cccc(COc4cccc(c4)C(=O)N5CCOCC5)c3...</td>\n",
              "      <td>71.50</td>\n",
              "    </tr>\n",
              "    <tr>\n",
              "      <th>4</th>\n",
              "      <td>TRAIN_0004</td>\n",
              "      <td>CC(C)CC(=O)C1=C(Nc2c(Cl)ccc(Cl)c2C1=O)S(=O)C</td>\n",
              "      <td>18.30</td>\n",
              "    </tr>\n",
              "    <tr>\n",
              "      <th>5</th>\n",
              "      <td>TRAIN_0005</td>\n",
              "      <td>O\\C(=C\\1/OCCN(Cc2ccccc2)C1=O)\\C3CCOCC3</td>\n",
              "      <td>1.28</td>\n",
              "    </tr>\n",
              "    <tr>\n",
              "      <th>6</th>\n",
              "      <td>TRAIN_0006</td>\n",
              "      <td>CS(=O)(=O)OCC(COCc1c(F)cccc1F)OS(=O)(=O)C</td>\n",
              "      <td>8.18</td>\n",
              "    </tr>\n",
              "    <tr>\n",
              "      <th>7</th>\n",
              "      <td>TRAIN_0007</td>\n",
              "      <td>[O-][N+](=O)c1cn2C[C@@H](COc2n1)OC3CCCCO3</td>\n",
              "      <td>13.20</td>\n",
              "    </tr>\n",
              "    <tr>\n",
              "      <th>8</th>\n",
              "      <td>TRAIN_0008</td>\n",
              "      <td>Cc1cc(nc(Nc2ccc(C#N)c(c2)C(F)(F)F)n1)N3CCC(CC3...</td>\n",
              "      <td>64.90</td>\n",
              "    </tr>\n",
              "    <tr>\n",
              "      <th>9</th>\n",
              "      <td>TRAIN_0009</td>\n",
              "      <td>COC(=O)c1c(C)nc2N(C)CCc2c1OS(=O)(=O)C(F)(F)F</td>\n",
              "      <td>53.50</td>\n",
              "    </tr>\n",
              "  </tbody>\n",
              "</table>\n",
              "</div>\n",
              "    <div class=\"colab-df-buttons\">\n",
              "\n",
              "  <div class=\"colab-df-container\">\n",
              "    <button class=\"colab-df-convert\" onclick=\"convertToInteractive('df-cfae28a7-f51b-4c4f-a7cf-bedda10c0267')\"\n",
              "            title=\"Convert this dataframe to an interactive table.\"\n",
              "            style=\"display:none;\">\n",
              "\n",
              "  <svg xmlns=\"http://www.w3.org/2000/svg\" height=\"24px\" viewBox=\"0 -960 960 960\">\n",
              "    <path d=\"M120-120v-720h720v720H120Zm60-500h600v-160H180v160Zm220 220h160v-160H400v160Zm0 220h160v-160H400v160ZM180-400h160v-160H180v160Zm440 0h160v-160H620v160ZM180-180h160v-160H180v160Zm440 0h160v-160H620v160Z\"/>\n",
              "  </svg>\n",
              "    </button>\n",
              "\n",
              "  <style>\n",
              "    .colab-df-container {\n",
              "      display:flex;\n",
              "      gap: 12px;\n",
              "    }\n",
              "\n",
              "    .colab-df-convert {\n",
              "      background-color: #E8F0FE;\n",
              "      border: none;\n",
              "      border-radius: 50%;\n",
              "      cursor: pointer;\n",
              "      display: none;\n",
              "      fill: #1967D2;\n",
              "      height: 32px;\n",
              "      padding: 0 0 0 0;\n",
              "      width: 32px;\n",
              "    }\n",
              "\n",
              "    .colab-df-convert:hover {\n",
              "      background-color: #E2EBFA;\n",
              "      box-shadow: 0px 1px 2px rgba(60, 64, 67, 0.3), 0px 1px 3px 1px rgba(60, 64, 67, 0.15);\n",
              "      fill: #174EA6;\n",
              "    }\n",
              "\n",
              "    .colab-df-buttons div {\n",
              "      margin-bottom: 4px;\n",
              "    }\n",
              "\n",
              "    [theme=dark] .colab-df-convert {\n",
              "      background-color: #3B4455;\n",
              "      fill: #D2E3FC;\n",
              "    }\n",
              "\n",
              "    [theme=dark] .colab-df-convert:hover {\n",
              "      background-color: #434B5C;\n",
              "      box-shadow: 0px 1px 3px 1px rgba(0, 0, 0, 0.15);\n",
              "      filter: drop-shadow(0px 1px 2px rgba(0, 0, 0, 0.3));\n",
              "      fill: #FFFFFF;\n",
              "    }\n",
              "  </style>\n",
              "\n",
              "    <script>\n",
              "      const buttonEl =\n",
              "        document.querySelector('#df-cfae28a7-f51b-4c4f-a7cf-bedda10c0267 button.colab-df-convert');\n",
              "      buttonEl.style.display =\n",
              "        google.colab.kernel.accessAllowed ? 'block' : 'none';\n",
              "\n",
              "      async function convertToInteractive(key) {\n",
              "        const element = document.querySelector('#df-cfae28a7-f51b-4c4f-a7cf-bedda10c0267');\n",
              "        const dataTable =\n",
              "          await google.colab.kernel.invokeFunction('convertToInteractive',\n",
              "                                                    [key], {});\n",
              "        if (!dataTable) return;\n",
              "\n",
              "        const docLinkHtml = 'Like what you see? Visit the ' +\n",
              "          '<a target=\"_blank\" href=https://colab.research.google.com/notebooks/data_table.ipynb>data table notebook</a>'\n",
              "          + ' to learn more about interactive tables.';\n",
              "        element.innerHTML = '';\n",
              "        dataTable['output_type'] = 'display_data';\n",
              "        await google.colab.output.renderOutput(dataTable, element);\n",
              "        const docLink = document.createElement('div');\n",
              "        docLink.innerHTML = docLinkHtml;\n",
              "        element.appendChild(docLink);\n",
              "      }\n",
              "    </script>\n",
              "  </div>\n",
              "\n",
              "\n",
              "    <div id=\"df-98a4b77c-3bb0-4110-a30a-bd333bc1ed9f\">\n",
              "      <button class=\"colab-df-quickchart\" onclick=\"quickchart('df-98a4b77c-3bb0-4110-a30a-bd333bc1ed9f')\"\n",
              "                title=\"Suggest charts\"\n",
              "                style=\"display:none;\">\n",
              "\n",
              "<svg xmlns=\"http://www.w3.org/2000/svg\" height=\"24px\"viewBox=\"0 0 24 24\"\n",
              "     width=\"24px\">\n",
              "    <g>\n",
              "        <path d=\"M19 3H5c-1.1 0-2 .9-2 2v14c0 1.1.9 2 2 2h14c1.1 0 2-.9 2-2V5c0-1.1-.9-2-2-2zM9 17H7v-7h2v7zm4 0h-2V7h2v10zm4 0h-2v-4h2v4z\"/>\n",
              "    </g>\n",
              "</svg>\n",
              "      </button>\n",
              "\n",
              "<style>\n",
              "  .colab-df-quickchart {\n",
              "      --bg-color: #E8F0FE;\n",
              "      --fill-color: #1967D2;\n",
              "      --hover-bg-color: #E2EBFA;\n",
              "      --hover-fill-color: #174EA6;\n",
              "      --disabled-fill-color: #AAA;\n",
              "      --disabled-bg-color: #DDD;\n",
              "  }\n",
              "\n",
              "  [theme=dark] .colab-df-quickchart {\n",
              "      --bg-color: #3B4455;\n",
              "      --fill-color: #D2E3FC;\n",
              "      --hover-bg-color: #434B5C;\n",
              "      --hover-fill-color: #FFFFFF;\n",
              "      --disabled-bg-color: #3B4455;\n",
              "      --disabled-fill-color: #666;\n",
              "  }\n",
              "\n",
              "  .colab-df-quickchart {\n",
              "    background-color: var(--bg-color);\n",
              "    border: none;\n",
              "    border-radius: 50%;\n",
              "    cursor: pointer;\n",
              "    display: none;\n",
              "    fill: var(--fill-color);\n",
              "    height: 32px;\n",
              "    padding: 0;\n",
              "    width: 32px;\n",
              "  }\n",
              "\n",
              "  .colab-df-quickchart:hover {\n",
              "    background-color: var(--hover-bg-color);\n",
              "    box-shadow: 0 1px 2px rgba(60, 64, 67, 0.3), 0 1px 3px 1px rgba(60, 64, 67, 0.15);\n",
              "    fill: var(--button-hover-fill-color);\n",
              "  }\n",
              "\n",
              "  .colab-df-quickchart-complete:disabled,\n",
              "  .colab-df-quickchart-complete:disabled:hover {\n",
              "    background-color: var(--disabled-bg-color);\n",
              "    fill: var(--disabled-fill-color);\n",
              "    box-shadow: none;\n",
              "  }\n",
              "\n",
              "  .colab-df-spinner {\n",
              "    border: 2px solid var(--fill-color);\n",
              "    border-color: transparent;\n",
              "    border-bottom-color: var(--fill-color);\n",
              "    animation:\n",
              "      spin 1s steps(1) infinite;\n",
              "  }\n",
              "\n",
              "  @keyframes spin {\n",
              "    0% {\n",
              "      border-color: transparent;\n",
              "      border-bottom-color: var(--fill-color);\n",
              "      border-left-color: var(--fill-color);\n",
              "    }\n",
              "    20% {\n",
              "      border-color: transparent;\n",
              "      border-left-color: var(--fill-color);\n",
              "      border-top-color: var(--fill-color);\n",
              "    }\n",
              "    30% {\n",
              "      border-color: transparent;\n",
              "      border-left-color: var(--fill-color);\n",
              "      border-top-color: var(--fill-color);\n",
              "      border-right-color: var(--fill-color);\n",
              "    }\n",
              "    40% {\n",
              "      border-color: transparent;\n",
              "      border-right-color: var(--fill-color);\n",
              "      border-top-color: var(--fill-color);\n",
              "    }\n",
              "    60% {\n",
              "      border-color: transparent;\n",
              "      border-right-color: var(--fill-color);\n",
              "    }\n",
              "    80% {\n",
              "      border-color: transparent;\n",
              "      border-right-color: var(--fill-color);\n",
              "      border-bottom-color: var(--fill-color);\n",
              "    }\n",
              "    90% {\n",
              "      border-color: transparent;\n",
              "      border-bottom-color: var(--fill-color);\n",
              "    }\n",
              "  }\n",
              "</style>\n",
              "\n",
              "      <script>\n",
              "        async function quickchart(key) {\n",
              "          const quickchartButtonEl =\n",
              "            document.querySelector('#' + key + ' button');\n",
              "          quickchartButtonEl.disabled = true;  // To prevent multiple clicks.\n",
              "          quickchartButtonEl.classList.add('colab-df-spinner');\n",
              "          try {\n",
              "            const charts = await google.colab.kernel.invokeFunction(\n",
              "                'suggestCharts', [key], {});\n",
              "          } catch (error) {\n",
              "            console.error('Error during call to suggestCharts:', error);\n",
              "          }\n",
              "          quickchartButtonEl.classList.remove('colab-df-spinner');\n",
              "          quickchartButtonEl.classList.add('colab-df-quickchart-complete');\n",
              "        }\n",
              "        (() => {\n",
              "          let quickchartButtonEl =\n",
              "            document.querySelector('#df-98a4b77c-3bb0-4110-a30a-bd333bc1ed9f button');\n",
              "          quickchartButtonEl.style.display =\n",
              "            google.colab.kernel.accessAllowed ? 'block' : 'none';\n",
              "        })();\n",
              "      </script>\n",
              "    </div>\n",
              "\n",
              "    </div>\n",
              "  </div>\n"
            ],
            "text/plain": [
              "           ID                                   Canonical_Smiles  Inhibition\n",
              "0  TRAIN_0000                        Cl.OC1(Cc2cccc(Br)c2)CCNCC1       12.50\n",
              "1  TRAIN_0001                              Brc1ccc2OCCc3ccnc1c23        4.45\n",
              "2  TRAIN_0002         CC1(CO)CC(=NO1)c2cc(c(F)cc2Cl)[N+](=O)[O-]        4.92\n",
              "3  TRAIN_0003  Fc1ccc2nc(Nc3cccc(COc4cccc(c4)C(=O)N5CCOCC5)c3...       71.50\n",
              "4  TRAIN_0004       CC(C)CC(=O)C1=C(Nc2c(Cl)ccc(Cl)c2C1=O)S(=O)C       18.30\n",
              "5  TRAIN_0005             O\\C(=C\\1/OCCN(Cc2ccccc2)C1=O)\\C3CCOCC3        1.28\n",
              "6  TRAIN_0006          CS(=O)(=O)OCC(COCc1c(F)cccc1F)OS(=O)(=O)C        8.18\n",
              "7  TRAIN_0007          [O-][N+](=O)c1cn2C[C@@H](COc2n1)OC3CCCCO3       13.20\n",
              "8  TRAIN_0008  Cc1cc(nc(Nc2ccc(C#N)c(c2)C(F)(F)F)n1)N3CCC(CC3...       64.90\n",
              "9  TRAIN_0009       COC(=O)c1c(C)nc2N(C)CCc2c1OS(=O)(=O)C(F)(F)F       53.50"
            ]
          },
          "execution_count": 5,
          "metadata": {},
          "output_type": "execute_result"
        }
      ],
      "source": [
        "df.head(10)"
      ]
    },
    {
      "cell_type": "code",
      "execution_count": null,
      "metadata": {
        "colab": {
          "base_uri": "https://localhost:8080/",
          "height": 178
        },
        "id": "zCRcOnWoOIXz",
        "outputId": "f70e59ad-8ac6-4c83-c9e0-31f5a4c11155"
      },
      "outputs": [
        {
          "data": {
            "text/html": [
              "<div>\n",
              "<style scoped>\n",
              "    .dataframe tbody tr th:only-of-type {\n",
              "        vertical-align: middle;\n",
              "    }\n",
              "\n",
              "    .dataframe tbody tr th {\n",
              "        vertical-align: top;\n",
              "    }\n",
              "\n",
              "    .dataframe thead th {\n",
              "        text-align: right;\n",
              "    }\n",
              "</style>\n",
              "<table border=\"1\" class=\"dataframe\">\n",
              "  <thead>\n",
              "    <tr style=\"text-align: right;\">\n",
              "      <th></th>\n",
              "      <th>0</th>\n",
              "    </tr>\n",
              "  </thead>\n",
              "  <tbody>\n",
              "    <tr>\n",
              "      <th>ID</th>\n",
              "      <td>0</td>\n",
              "    </tr>\n",
              "    <tr>\n",
              "      <th>Canonical_Smiles</th>\n",
              "      <td>0</td>\n",
              "    </tr>\n",
              "    <tr>\n",
              "      <th>Inhibition</th>\n",
              "      <td>0</td>\n",
              "    </tr>\n",
              "  </tbody>\n",
              "</table>\n",
              "</div><br><label><b>dtype:</b> int64</label>"
            ],
            "text/plain": [
              "ID                  0\n",
              "Canonical_Smiles    0\n",
              "Inhibition          0\n",
              "dtype: int64"
            ]
          },
          "execution_count": 6,
          "metadata": {},
          "output_type": "execute_result"
        }
      ],
      "source": [
        "df.isnull().sum()"
      ]
    },
    {
      "cell_type": "markdown",
      "metadata": {},
      "source": [
        "#화학 구조 → 수치형 벡터 \n",
        "- RDKit 라이브러리 활용\n",
        "- Canonical_Smiles → Morgan Fingerprint (2048차원 이진 벡터) 로 변환"
      ]
    },
    {
      "cell_type": "code",
      "execution_count": null,
      "metadata": {
        "colab": {
          "base_uri": "https://localhost:8080/"
        },
        "id": "ENB9VJIfOZqV",
        "outputId": "0e20922a-c906-45fe-919e-a00f34b80760"
      },
      "outputs": [
        {
          "name": "stdout",
          "output_type": "stream",
          "text": [
            "Collecting rdkit-pypi\n",
            "  Downloading rdkit_pypi-2022.9.5-cp311-cp311-manylinux_2_17_x86_64.manylinux2014_x86_64.whl.metadata (3.9 kB)\n",
            "Requirement already satisfied: numpy in /usr/local/lib/python3.11/dist-packages (from rdkit-pypi) (2.0.2)\n",
            "Requirement already satisfied: Pillow in /usr/local/lib/python3.11/dist-packages (from rdkit-pypi) (11.2.1)\n",
            "Downloading rdkit_pypi-2022.9.5-cp311-cp311-manylinux_2_17_x86_64.manylinux2014_x86_64.whl (29.4 MB)\n",
            "\u001b[2K   \u001b[90m━━━━━━━━━━━━━━━━━━━━━━━━━━━━━━━━━━━━━━━━\u001b[0m \u001b[32m29.4/29.4 MB\u001b[0m \u001b[31m76.5 MB/s\u001b[0m eta \u001b[36m0:00:00\u001b[0m\n",
            "\u001b[?25hInstalling collected packages: rdkit-pypi\n",
            "Successfully installed rdkit-pypi-2022.9.5\n"
          ]
        }
      ],
      "source": [
        "!pip install rdkit-pypi\n"
      ]
    },
    {
      "cell_type": "code",
      "execution_count": null,
      "metadata": {
        "colab": {
          "base_uri": "https://localhost:8080/",
          "height": 359
        },
        "id": "I3W5Ljt0OxRf",
        "outputId": "4153b5d2-f8a1-4935-89cb-56e831838c33"
      },
      "outputs": [
        {
          "name": "stdout",
          "output_type": "stream",
          "text": [
            "Collecting numpy==1.26.4\n",
            "  Downloading numpy-1.26.4-cp311-cp311-manylinux_2_17_x86_64.manylinux2014_x86_64.whl.metadata (61 kB)\n",
            "\u001b[?25l     \u001b[90m━━━━━━━━━━━━━━━━━━━━━━━━━━━━━━━━━━━━━━━━\u001b[0m \u001b[32m0.0/61.0 kB\u001b[0m \u001b[31m?\u001b[0m eta \u001b[36m-:--:--\u001b[0m\r\u001b[2K     \u001b[90m━━━━━━━━━━━━━━━━━━━━━━━━━━━━━━━━━━━━━━━━\u001b[0m \u001b[32m61.0/61.0 kB\u001b[0m \u001b[31m4.5 MB/s\u001b[0m eta \u001b[36m0:00:00\u001b[0m\n",
            "\u001b[?25hDownloading numpy-1.26.4-cp311-cp311-manylinux_2_17_x86_64.manylinux2014_x86_64.whl (18.3 MB)\n",
            "\u001b[2K   \u001b[90m━━━━━━━━━━━━━━━━━━━━━━━━━━━━━━━━━━━━━━━━\u001b[0m \u001b[32m18.3/18.3 MB\u001b[0m \u001b[31m97.4 MB/s\u001b[0m eta \u001b[36m0:00:00\u001b[0m\n",
            "\u001b[?25hInstalling collected packages: numpy\n",
            "  Attempting uninstall: numpy\n",
            "    Found existing installation: numpy 2.0.2\n",
            "    Uninstalling numpy-2.0.2:\n",
            "      Successfully uninstalled numpy-2.0.2\n",
            "\u001b[31mERROR: pip's dependency resolver does not currently take into account all the packages that are installed. This behaviour is the source of the following dependency conflicts.\n",
            "thinc 8.3.6 requires numpy<3.0.0,>=2.0.0, but you have numpy 1.26.4 which is incompatible.\u001b[0m\u001b[31m\n",
            "\u001b[0mSuccessfully installed numpy-1.26.4\n"
          ]
        },
        {
          "data": {
            "application/vnd.colab-display-data+json": {
              "id": "c699e6c6eeaa4947a5bd18b0e14e23fa",
              "pip_warning": {
                "packages": [
                  "numpy"
                ]
              }
            }
          },
          "metadata": {},
          "output_type": "display_data"
        }
      ],
      "source": [
        "# NumPy 1.26.4로 다운그레이드\n",
        "!pip install numpy==1.26.4 --force-reinstall\n"
      ]
    },
    {
      "cell_type": "code",
      "execution_count": null,
      "metadata": {
        "id": "CYVuEEn_OcZU"
      },
      "outputs": [],
      "source": [
        "from rdkit import Chem\n",
        "from rdkit.Chem import AllChem\n",
        "import numpy as np\n",
        "\n",
        "# SMILES → Morgan Fingerprint (2048차원 벡터)로 변환\n",
        "def smiles_to_morgan(smiles, radius=2, n_bits=2048):\n",
        "    mol = Chem.MolFromSmiles(smiles)\n",
        "    if mol:\n",
        "        fp = AllChem.GetMorganFingerprintAsBitVect(mol, radius, nBits=n_bits)\n",
        "        return np.array(fp)\n",
        "    else:\n",
        "        return np.zeros(n_bits)\n",
        "\n",
        "# 전체 데이터 변환\n",
        "X = np.array([smiles_to_morgan(smi) for smi in df['Canonical_Smiles']])\n",
        "y = df['Inhibition'].values\n"
      ]
    },
    {
      "cell_type": "code",
      "execution_count": null,
      "metadata": {
        "id": "Q4MitjDYPAE2"
      },
      "outputs": [],
      "source": [
        "from sklearn.preprocessing import StandardScaler\n",
        "\n",
        "scaler = StandardScaler()\n",
        "X_scaled = scaler.fit_transform(X)\n"
      ]
    },
    {
      "cell_type": "code",
      "execution_count": null,
      "metadata": {
        "colab": {
          "base_uri": "https://localhost:8080/"
        },
        "id": "Cmn9ZML9PJ7-",
        "outputId": "d5d024e1-7e62-4972-ea7f-c2bdb822e266"
      },
      "outputs": [
        {
          "name": "stdout",
          "output_type": "stream",
          "text": [
            "Requirement already satisfied: rdkit-pypi in /usr/local/lib/python3.11/dist-packages (2022.9.5)\n",
            "Requirement already satisfied: xgboost in /usr/local/lib/python3.11/dist-packages (2.1.4)\n",
            "Requirement already satisfied: scikit-learn in /usr/local/lib/python3.11/dist-packages (1.6.1)\n",
            "Requirement already satisfied: numpy in /usr/local/lib/python3.11/dist-packages (from rdkit-pypi) (1.26.4)\n",
            "Requirement already satisfied: Pillow in /usr/local/lib/python3.11/dist-packages (from rdkit-pypi) (11.2.1)\n",
            "Requirement already satisfied: nvidia-nccl-cu12 in /usr/local/lib/python3.11/dist-packages (from xgboost) (2.21.5)\n",
            "Requirement already satisfied: scipy in /usr/local/lib/python3.11/dist-packages (from xgboost) (1.15.3)\n",
            "Requirement already satisfied: joblib>=1.2.0 in /usr/local/lib/python3.11/dist-packages (from scikit-learn) (1.5.1)\n",
            "Requirement already satisfied: threadpoolctl>=3.1.0 in /usr/local/lib/python3.11/dist-packages (from scikit-learn) (3.6.0)\n"
          ]
        }
      ],
      "source": [
        "!pip install rdkit-pypi xgboost scikit-learn"
      ]
    },
    {
      "cell_type": "code",
      "execution_count": null,
      "metadata": {
        "colab": {
          "base_uri": "https://localhost:8080/"
        },
        "id": "K_5sORgqPNLm",
        "outputId": "f5a9bb8f-363e-428b-e1e0-55c678990dd9"
      },
      "outputs": [
        {
          "name": "stdout",
          "output_type": "stream",
          "text": [
            "\n",
            "📊 [Random Forest]\n",
            "MSE : 603.1389\n",
            "R²  : 0.1320\n",
            "\n",
            "📊 [XGBoost]\n",
            "MSE : 629.0826\n",
            "R²  : 0.0947\n"
          ]
        }
      ],
      "source": [
        "import pandas as pd\n",
        "import numpy as np\n",
        "from rdkit import Chem\n",
        "from rdkit.Chem import AllChem\n",
        "from sklearn.ensemble import RandomForestRegressor\n",
        "from xgboost import XGBRegressor\n",
        "from sklearn.model_selection import train_test_split\n",
        "from sklearn.metrics import mean_squared_error, r2_score\n",
        "\n",
        "# 1. 데이터 로드 (csv에 헤더가 있다면 header=None 제거)\n",
        "df = pd.read_csv('/content/drive/MyDrive/Boostup2025/train.csv')\n",
        "\n",
        "# 만약 컬럼명이 없거나 임의로 지정할 필요 있다면 아래 주석 해제\n",
        "# df.columns = ['ID', 'Canonical_Smiles', 'Inhibition']\n",
        "\n",
        "# 2. SMILES → Morgan Fingerprint 변환 함수 (명확한 0/1 배열 반환)\n",
        "def smiles_to_morgan(smiles, radius=2, n_bits=2048):\n",
        "    mol = Chem.MolFromSmiles(smiles)\n",
        "    if mol:\n",
        "        fp = AllChem.GetMorganFingerprintAsBitVect(mol, radius, nBits=n_bits)\n",
        "        bitstring = fp.ToBitString()\n",
        "        return np.array([int(bit) for bit in bitstring])\n",
        "    else:\n",
        "        return np.zeros(n_bits, dtype=int)\n",
        "\n",
        "X = np.array([smiles_to_morgan(smi) for smi in df['Canonical_Smiles']])\n",
        "y = df['Inhibition'].values\n",
        "\n",
        "# 3. 학습/검증 데이터 분할\n",
        "X_train, X_val, y_train, y_val = train_test_split(X, y, test_size=0.2, random_state=42)\n",
        "\n",
        "# 4. RandomForest 모델 학습\n",
        "rf = RandomForestRegressor(n_estimators=200, random_state=42)\n",
        "rf.fit(X_train, y_train)\n",
        "rf_pred = rf.predict(X_val)\n",
        "\n",
        "# 5. XGBoost 모델 학습\n",
        "xgb = XGBRegressor(n_estimators=200, learning_rate=0.1, max_depth=6, random_state=42)\n",
        "xgb.fit(X_train, y_train)\n",
        "xgb_pred = xgb.predict(X_val)\n",
        "\n",
        "# 6. 성능 평가 함수\n",
        "def evaluate(y_true, y_pred, model_name):\n",
        "    print(f'\\n📊 [{model_name}]')\n",
        "    print(f'MSE : {mean_squared_error(y_true, y_pred):.4f}')\n",
        "    print(f'R²  : {r2_score(y_true, y_pred):.4f}')\n",
        "\n",
        "# 7. 결과 출력\n",
        "evaluate(y_val, rf_pred, 'Random Forest')\n",
        "evaluate(y_val, xgb_pred, 'XGBoost')\n",
        "\n"
      ]
    },
    {
      "cell_type": "markdown",
      "metadata": {
        "id": "-zlv6oujV34S"
      },
      "source": [
        "1. 성능이 떨어짐\n",
        " - random forest : 결정개수가 0.13으로 낮음 ->모델이 평균보다도 못한 예측을 하고 있음\n",
        "                 : MSE 603으로 정확히 예측 못함\n",
        " - XGBoost : 결정개수가 0.0947로 낮음 ->모델이 평균보다도 못한 예측 하고있음\n",
        "           : MSE 603으로 정확히 예측 못함\n",
        "2. 이상치 제거 후 돌릴 예정"
      ]
    },
    {
      "cell_type": "code",
      "execution_count": null,
      "metadata": {
        "colab": {
          "base_uri": "https://localhost:8080/"
        },
        "id": "GrB6ozDgQT3Q",
        "outputId": "a99ad7bf-d0c1-4756-ea67-6c7dc8b938c7"
      },
      "outputs": [
        {
          "name": "stdout",
          "output_type": "stream",
          "text": [
            "이상치로 판단된 샘플 수: 226\n"
          ]
        }
      ],
      "source": [
        "import numpy as np\n",
        "import matplotlib.pyplot as plt\n",
        "\n",
        "# 학습된 모델로 전체 데이터 예측 (또는 검증 데이터)\n",
        "pred_all = rf.predict(X)  # 또는 검증 데이터 X_val\n",
        "\n",
        "# 잔차 계산\n",
        "residuals = y - pred_all\n",
        "abs_residuals = np.abs(residuals)\n",
        "\n",
        "# 이상치 기준 (예: 잔차 절대값이 2*std 이상인 데이터)\n",
        "threshold = 2 * np.std(abs_residuals)\n",
        "outliers_idx = np.where(abs_residuals > threshold)[0]\n",
        "\n",
        "print(f'이상치로 판단된 샘플 수: {len(outliers_idx)}')\n",
        "\n",
        "# 이상치 제거한 데이터셋\n",
        "X_clean = np.delete(X, outliers_idx, axis=0)\n",
        "y_clean = np.delete(y, outliers_idx, axis=0)\n"
      ]
    },
    {
      "cell_type": "markdown",
      "metadata": {},
      "source": [
        "이상치 발견 : 226개 \n",
        "-> 이상치 제거하기로 결정"
      ]
    },
    {
      "cell_type": "code",
      "execution_count": null,
      "metadata": {
        "colab": {
          "base_uri": "https://localhost:8080/"
        },
        "id": "HpL6JRM-QabG",
        "outputId": "a5b9794a-8d8d-4139-b3e3-39df4ec6b5b3"
      },
      "outputs": [
        {
          "name": "stdout",
          "output_type": "stream",
          "text": [
            "원본 데이터 개수: 1681\n",
            "이상치 제거 후 데이터 개수: 1455\n",
            "\n",
            "📊 [Random Forest (이상치 제거 후)]\n",
            "MSE : 464.6703\n",
            "R²  : 0.1350\n"
          ]
        }
      ],
      "source": [
        "print(f'원본 데이터 개수: {len(y)}')\n",
        "print(f'이상치 제거 후 데이터 개수: {len(y_clean)}')\n",
        "\n",
        "# 재학습\n",
        "X_train2, X_val2, y_train2, y_val2 = train_test_split(X_clean, y_clean, test_size=0.2, random_state=42)\n",
        "rf2 = RandomForestRegressor(n_estimators=200, random_state=42)\n",
        "rf2.fit(X_train2, y_train2)\n",
        "rf2_pred = rf2.predict(X_val2)\n",
        "\n",
        "# 평가\n",
        "evaluate(y_val2, rf2_pred, 'Random Forest (이상치 제거 후)')\n"
      ]
    },
    {
      "cell_type": "markdown",
      "metadata": {},
      "source": [
        "이상치 제거후에도 성능이 나오지 않음 \n",
        " - MSE 값의 성능은 좋아졌지만 여전히 결정계수의 값이 낮음\n",
        "-> 데이터 증강(3회)해보기로 결정"
      ]
    },
    {
      "cell_type": "code",
      "execution_count": null,
      "metadata": {
        "colab": {
          "base_uri": "https://localhost:8080/"
        },
        "id": "U-YMbpuLQuMe",
        "outputId": "41db6b68-6f2d-4075-fa41-acddca3b8143"
      },
      "outputs": [
        {
          "name": "stdout",
          "output_type": "stream",
          "text": [
            "증강 후 데이터 개수: 6724\n"
          ]
        }
      ],
      "source": [
        "from rdkit import Chem\n",
        "from rdkit.Chem import MolToSmiles\n",
        "import random\n",
        "import pandas as pd\n",
        "import numpy as np\n",
        "\n",
        "def random_smiles(smiles, random_seed=None):\n",
        "    mol = Chem.MolFromSmiles(smiles)\n",
        "    if mol is None:\n",
        "        return None\n",
        "    if random_seed is not None:\n",
        "        random.seed(random_seed)\n",
        "    return MolToSmiles(mol, doRandom=True)\n",
        "\n",
        "#데이터프레임 df에서 증강\n",
        "augmented_smiles_list = []\n",
        "augmented_targets = []\n",
        "\n",
        "for smi, target in zip(df['Canonical_Smiles'], df['Inhibition']):\n",
        "    augmented_smiles_list.append(smi)\n",
        "    augmented_targets.append(target)\n",
        "    for i in range(3):  # 증강 횟수: 3번\n",
        "        aug_smi = random_smiles(smi, random_seed=i)\n",
        "        if aug_smi:\n",
        "            augmented_smiles_list.append(aug_smi)\n",
        "            augmented_targets.append(target)\n",
        "\n",
        "aug_df = pd.DataFrame({\n",
        "    'Canonical_Smiles': augmented_smiles_list,\n",
        "    'Inhibition': augmented_targets\n",
        "})\n",
        "\n",
        "print(f\"증강 후 데이터 개수: {len(aug_df)}\")\n"
      ]
    },
    {
      "cell_type": "code",
      "execution_count": null,
      "metadata": {
        "id": "nz3Zz-eQQvdv"
      },
      "outputs": [],
      "source": [
        "# Morgan fingerprint 변환 \n",
        "def smiles_to_morgan(smiles, radius=2, n_bits=2048):\n",
        "    mol = Chem.MolFromSmiles(smiles)\n",
        "    if mol:\n",
        "        fp = AllChem.GetMorganFingerprintAsBitVect(mol, radius, nBits=n_bits)\n",
        "        bitstring = fp.ToBitString()\n",
        "        return np.array([int(bit) for bit in bitstring])\n",
        "    else:\n",
        "        return np.zeros(n_bits, dtype=int)\n",
        "\n",
        "X_aug = np.array([smiles_to_morgan(smi) for smi in aug_df['Canonical_Smiles']])\n",
        "y_aug = aug_df['Inhibition'].values\n",
        "\n",
        "from sklearn.model_selection import train_test_split\n",
        "X_train, X_val, y_train, y_val = train_test_split(X_aug, y_aug, test_size=0.2, random_state=42)\n"
      ]
    },
    {
      "cell_type": "code",
      "execution_count": null,
      "metadata": {
        "colab": {
          "base_uri": "https://localhost:8080/"
        },
        "id": "9Cxo5noyT-2l",
        "outputId": "c5a7eeaf-a47f-408d-9cca-dc815bb8aeff"
      },
      "outputs": [
        {
          "name": "stdout",
          "output_type": "stream",
          "text": [
            "Collecting optuna\n",
            "  Downloading optuna-4.4.0-py3-none-any.whl.metadata (17 kB)\n",
            "Collecting alembic>=1.5.0 (from optuna)\n",
            "  Downloading alembic-1.16.2-py3-none-any.whl.metadata (7.3 kB)\n",
            "Collecting colorlog (from optuna)\n",
            "  Downloading colorlog-6.9.0-py3-none-any.whl.metadata (10 kB)\n",
            "Requirement already satisfied: numpy in /usr/local/lib/python3.11/dist-packages (from optuna) (1.26.4)\n",
            "Requirement already satisfied: packaging>=20.0 in /usr/local/lib/python3.11/dist-packages (from optuna) (24.2)\n",
            "Requirement already satisfied: sqlalchemy>=1.4.2 in /usr/local/lib/python3.11/dist-packages (from optuna) (2.0.41)\n",
            "Requirement already satisfied: tqdm in /usr/local/lib/python3.11/dist-packages (from optuna) (4.67.1)\n",
            "Requirement already satisfied: PyYAML in /usr/local/lib/python3.11/dist-packages (from optuna) (6.0.2)\n",
            "Requirement already satisfied: Mako in /usr/lib/python3/dist-packages (from alembic>=1.5.0->optuna) (1.1.3)\n",
            "Requirement already satisfied: typing-extensions>=4.12 in /usr/local/lib/python3.11/dist-packages (from alembic>=1.5.0->optuna) (4.14.0)\n",
            "Requirement already satisfied: greenlet>=1 in /usr/local/lib/python3.11/dist-packages (from sqlalchemy>=1.4.2->optuna) (3.2.3)\n",
            "Downloading optuna-4.4.0-py3-none-any.whl (395 kB)\n",
            "\u001b[2K   \u001b[90m━━━━━━━━━━━━━━━━━━━━━━━━━━━━━━━━━━━━━━━━\u001b[0m \u001b[32m395.9/395.9 kB\u001b[0m \u001b[31m18.3 MB/s\u001b[0m eta \u001b[36m0:00:00\u001b[0m\n",
            "\u001b[?25hDownloading alembic-1.16.2-py3-none-any.whl (242 kB)\n",
            "\u001b[2K   \u001b[90m━━━━━━━━━━━━━━━━━━━━━━━━━━━━━━━━━━━━━━━━\u001b[0m \u001b[32m242.7/242.7 kB\u001b[0m \u001b[31m23.6 MB/s\u001b[0m eta \u001b[36m0:00:00\u001b[0m\n",
            "\u001b[?25hDownloading colorlog-6.9.0-py3-none-any.whl (11 kB)\n",
            "Installing collected packages: colorlog, alembic, optuna\n",
            "Successfully installed alembic-1.16.2 colorlog-6.9.0 optuna-4.4.0\n"
          ]
        }
      ],
      "source": [
        "!pip install optuna\n"
      ]
    },
    {
      "cell_type": "code",
      "execution_count": null,
      "metadata": {
        "id": "EoMLfDpLVT87"
      },
      "outputs": [],
      "source": [
        "import logging\n",
        "optuna.logging.set_verbosity(logging.INFO)\n"
      ]
    },
    {
      "cell_type": "code",
      "execution_count": null,
      "metadata": {
        "colab": {
          "base_uri": "https://localhost:8080/"
        },
        "id": "VHEZeWSpQ2wt",
        "outputId": "0086841b-3295-4d73-e304-b86147c432cb"
      },
      "outputs": [
        {
          "name": "stderr",
          "output_type": "stream",
          "text": [
            "[I 2025-06-30 00:56:26,850] A new study created in memory with name: no-name-51f1b84a-f425-4538-8e67-69854a31e1f7\n",
            "[I 2025-06-30 00:59:32,815] Trial 0 finished with value: 452.1406347400334 and parameters: {'n_estimators': 224, 'max_depth': 11, 'min_samples_split': 8, 'min_samples_leaf': 5}. Best is trial 0 with value: 452.1406347400334.\n"
          ]
        },
        {
          "name": "stdout",
          "output_type": "stream",
          "text": [
            "Trial 0: MSE=452.1406, Params={'n_estimators': 224, 'max_depth': 11, 'min_samples_split': 8, 'min_samples_leaf': 5}\n"
          ]
        },
        {
          "name": "stderr",
          "output_type": "stream",
          "text": [
            "[I 2025-06-30 01:00:49,311] Trial 1 finished with value: 497.11547619737644 and parameters: {'n_estimators': 102, 'max_depth': 10, 'min_samples_split': 7, 'min_samples_leaf': 10}. Best is trial 0 with value: 452.1406347400334.\n"
          ]
        },
        {
          "name": "stdout",
          "output_type": "stream",
          "text": [
            "Trial 1: MSE=497.1155, Params={'n_estimators': 102, 'max_depth': 10, 'min_samples_split': 7, 'min_samples_leaf': 10}\n"
          ]
        },
        {
          "name": "stderr",
          "output_type": "stream",
          "text": [
            "[I 2025-06-30 01:09:44,703] Trial 2 finished with value: 284.7507181948592 and parameters: {'n_estimators': 373, 'max_depth': 26, 'min_samples_split': 12, 'min_samples_leaf': 5}. Best is trial 2 with value: 284.7507181948592.\n"
          ]
        },
        {
          "name": "stdout",
          "output_type": "stream",
          "text": [
            "Trial 2: MSE=284.7507, Params={'n_estimators': 373, 'max_depth': 26, 'min_samples_split': 12, 'min_samples_leaf': 5}\n"
          ]
        },
        {
          "name": "stderr",
          "output_type": "stream",
          "text": [
            "[I 2025-06-30 01:12:59,627] Trial 3 finished with value: 371.83043591605605 and parameters: {'n_estimators': 169, 'max_depth': 18, 'min_samples_split': 19, 'min_samples_leaf': 5}. Best is trial 2 with value: 284.7507181948592.\n"
          ]
        },
        {
          "name": "stdout",
          "output_type": "stream",
          "text": [
            "Trial 3: MSE=371.8304, Params={'n_estimators': 169, 'max_depth': 18, 'min_samples_split': 19, 'min_samples_leaf': 5}\n"
          ]
        },
        {
          "name": "stderr",
          "output_type": "stream",
          "text": [
            "[I 2025-06-30 01:16:26,888] Trial 4 finished with value: 445.1532948099452 and parameters: {'n_estimators': 251, 'max_depth': 11, 'min_samples_split': 12, 'min_samples_leaf': 3}. Best is trial 2 with value: 284.7507181948592.\n"
          ]
        },
        {
          "name": "stdout",
          "output_type": "stream",
          "text": [
            "Trial 4: MSE=445.1533, Params={'n_estimators': 251, 'max_depth': 11, 'min_samples_split': 12, 'min_samples_leaf': 3}\n"
          ]
        },
        {
          "name": "stderr",
          "output_type": "stream",
          "text": [
            "[I 2025-06-30 01:20:57,749] Trial 5 finished with value: 260.7732378089583 and parameters: {'n_estimators': 181, 'max_depth': 25, 'min_samples_split': 15, 'min_samples_leaf': 1}. Best is trial 5 with value: 260.7732378089583.\n"
          ]
        },
        {
          "name": "stdout",
          "output_type": "stream",
          "text": [
            "Trial 5: MSE=260.7732, Params={'n_estimators': 181, 'max_depth': 25, 'min_samples_split': 15, 'min_samples_leaf': 1}\n"
          ]
        },
        {
          "name": "stderr",
          "output_type": "stream",
          "text": [
            "[I 2025-06-30 01:24:09,050] Trial 6 finished with value: 281.6434382018248 and parameters: {'n_estimators': 131, 'max_depth': 25, 'min_samples_split': 16, 'min_samples_leaf': 3}. Best is trial 5 with value: 260.7732378089583.\n"
          ]
        },
        {
          "name": "stdout",
          "output_type": "stream",
          "text": [
            "Trial 6: MSE=281.6434, Params={'n_estimators': 131, 'max_depth': 25, 'min_samples_split': 16, 'min_samples_leaf': 3}\n"
          ]
        },
        {
          "name": "stderr",
          "output_type": "stream",
          "text": [
            "[I 2025-06-30 01:31:45,935] Trial 7 finished with value: 358.5325893647985 and parameters: {'n_estimators': 363, 'max_depth': 30, 'min_samples_split': 11, 'min_samples_leaf': 10}. Best is trial 5 with value: 260.7732378089583.\n"
          ]
        },
        {
          "name": "stdout",
          "output_type": "stream",
          "text": [
            "Trial 7: MSE=358.5326, Params={'n_estimators': 363, 'max_depth': 30, 'min_samples_split': 11, 'min_samples_leaf': 10}\n"
          ]
        },
        {
          "name": "stderr",
          "output_type": "stream",
          "text": [
            "[I 2025-06-30 01:36:26,018] Trial 8 finished with value: 396.13193051996996 and parameters: {'n_estimators': 276, 'max_depth': 14, 'min_samples_split': 18, 'min_samples_leaf': 1}. Best is trial 5 with value: 260.7732378089583.\n"
          ]
        },
        {
          "name": "stdout",
          "output_type": "stream",
          "text": [
            "Trial 8: MSE=396.1319, Params={'n_estimators': 276, 'max_depth': 14, 'min_samples_split': 18, 'min_samples_leaf': 1}\n"
          ]
        },
        {
          "name": "stderr",
          "output_type": "stream",
          "text": [
            "[I 2025-06-30 01:38:20,034] Trial 9 finished with value: 465.8060226809578 and parameters: {'n_estimators': 139, 'max_depth': 11, 'min_samples_split': 8, 'min_samples_leaf': 7}. Best is trial 5 with value: 260.7732378089583.\n"
          ]
        },
        {
          "name": "stdout",
          "output_type": "stream",
          "text": [
            "Trial 9: MSE=465.8060, Params={'n_estimators': 139, 'max_depth': 11, 'min_samples_split': 8, 'min_samples_leaf': 7}\n"
          ]
        },
        {
          "name": "stderr",
          "output_type": "stream",
          "text": [
            "[I 2025-06-30 01:48:38,642] Trial 10 finished with value: 259.18351561898066 and parameters: {'n_estimators': 454, 'max_depth': 20, 'min_samples_split': 2, 'min_samples_leaf': 1}. Best is trial 10 with value: 259.18351561898066.\n"
          ]
        },
        {
          "name": "stdout",
          "output_type": "stream",
          "text": [
            "Trial 10: MSE=259.1835, Params={'n_estimators': 454, 'max_depth': 20, 'min_samples_split': 2, 'min_samples_leaf': 1}\n"
          ]
        },
        {
          "name": "stderr",
          "output_type": "stream",
          "text": [
            "[I 2025-06-30 01:56:46,592] Trial 11 finished with value: 247.00550012825366 and parameters: {'n_estimators': 345, 'max_depth': 21, 'min_samples_split': 2, 'min_samples_leaf': 1}. Best is trial 11 with value: 247.00550012825366.\n"
          ]
        },
        {
          "name": "stdout",
          "output_type": "stream",
          "text": [
            "Trial 11: MSE=247.0055, Params={'n_estimators': 345, 'max_depth': 21, 'min_samples_split': 2, 'min_samples_leaf': 1}\n"
          ]
        },
        {
          "name": "stderr",
          "output_type": "stream",
          "text": [
            "[I 2025-06-30 02:06:54,608] Trial 12 finished with value: 301.73769457767753 and parameters: {'n_estimators': 482, 'max_depth': 19, 'min_samples_split': 2, 'min_samples_leaf': 3}. Best is trial 11 with value: 247.00550012825366.\n"
          ]
        },
        {
          "name": "stdout",
          "output_type": "stream",
          "text": [
            "Trial 12: MSE=301.7377, Params={'n_estimators': 482, 'max_depth': 19, 'min_samples_split': 2, 'min_samples_leaf': 3}\n"
          ]
        },
        {
          "name": "stderr",
          "output_type": "stream",
          "text": [
            "[I 2025-06-30 02:18:14,511] Trial 13 finished with value: 259.5432114706361 and parameters: {'n_estimators': 490, 'max_depth': 20, 'min_samples_split': 2, 'min_samples_leaf': 1}. Best is trial 11 with value: 247.00550012825366.\n"
          ]
        },
        {
          "name": "stdout",
          "output_type": "stream",
          "text": [
            "Trial 13: MSE=259.5432, Params={'n_estimators': 490, 'max_depth': 20, 'min_samples_split': 2, 'min_samples_leaf': 1}\n"
          ]
        },
        {
          "name": "stderr",
          "output_type": "stream",
          "text": [
            "[I 2025-06-30 02:21:12,188] Trial 14 finished with value: 591.8974589830806 and parameters: {'n_estimators': 414, 'max_depth': 5, 'min_samples_split': 5, 'min_samples_leaf': 7}. Best is trial 11 with value: 247.00550012825366.\n"
          ]
        },
        {
          "name": "stdout",
          "output_type": "stream",
          "text": [
            "Trial 14: MSE=591.8975, Params={'n_estimators': 414, 'max_depth': 5, 'min_samples_split': 5, 'min_samples_leaf': 7}\n"
          ]
        },
        {
          "name": "stderr",
          "output_type": "stream",
          "text": [
            "[I 2025-06-30 02:29:13,971] Trial 15 finished with value: 253.26500448058468 and parameters: {'n_estimators': 344, 'max_depth': 22, 'min_samples_split': 4, 'min_samples_leaf': 2}. Best is trial 11 with value: 247.00550012825366.\n"
          ]
        },
        {
          "name": "stdout",
          "output_type": "stream",
          "text": [
            "Trial 15: MSE=253.2650, Params={'n_estimators': 344, 'max_depth': 22, 'min_samples_split': 4, 'min_samples_leaf': 2}\n"
          ]
        },
        {
          "name": "stderr",
          "output_type": "stream",
          "text": [
            "[I 2025-06-30 02:36:47,549] Trial 16 finished with value: 258.7617829242795 and parameters: {'n_estimators': 327, 'max_depth': 23, 'min_samples_split': 4, 'min_samples_leaf': 3}. Best is trial 11 with value: 247.00550012825366.\n"
          ]
        },
        {
          "name": "stdout",
          "output_type": "stream",
          "text": [
            "Trial 16: MSE=258.7618, Params={'n_estimators': 327, 'max_depth': 23, 'min_samples_split': 4, 'min_samples_leaf': 3}\n"
          ]
        },
        {
          "name": "stderr",
          "output_type": "stream",
          "text": [
            "[I 2025-06-30 02:42:14,875] Trial 17 finished with value: 347.72587332257586 and parameters: {'n_estimators': 315, 'max_depth': 15, 'min_samples_split': 5, 'min_samples_leaf': 2}. Best is trial 11 with value: 247.00550012825366.\n"
          ]
        },
        {
          "name": "stdout",
          "output_type": "stream",
          "text": [
            "Trial 17: MSE=347.7259, Params={'n_estimators': 315, 'max_depth': 15, 'min_samples_split': 5, 'min_samples_leaf': 2}\n"
          ]
        },
        {
          "name": "stderr",
          "output_type": "stream",
          "text": [
            "[I 2025-06-30 02:52:13,688] Trial 18 finished with value: 245.76572220067274 and parameters: {'n_estimators': 392, 'max_depth': 29, 'min_samples_split': 10, 'min_samples_leaf': 4}. Best is trial 18 with value: 245.76572220067274.\n"
          ]
        },
        {
          "name": "stdout",
          "output_type": "stream",
          "text": [
            "Trial 18: MSE=245.7657, Params={'n_estimators': 392, 'max_depth': 29, 'min_samples_split': 10, 'min_samples_leaf': 4}\n"
          ]
        },
        {
          "name": "stderr",
          "output_type": "stream",
          "text": [
            "[I 2025-06-30 03:01:37,221] Trial 19 finished with value: 301.8628295359279 and parameters: {'n_estimators': 410, 'max_depth': 30, 'min_samples_split': 14, 'min_samples_leaf': 7}. Best is trial 18 with value: 245.76572220067274.\n"
          ]
        },
        {
          "name": "stdout",
          "output_type": "stream",
          "text": [
            "Trial 19: MSE=301.8628, Params={'n_estimators': 410, 'max_depth': 30, 'min_samples_split': 14, 'min_samples_leaf': 7}\n",
            "Best params: {'n_estimators': 392, 'max_depth': 29, 'min_samples_split': 10, 'min_samples_leaf': 4}\n"
          ]
        }
      ],
      "source": [
        "import optuna\n",
        "from sklearn.model_selection import cross_val_score\n",
        "from sklearn.ensemble import RandomForestRegressor\n",
        "import optuna.logging\n",
        "\n",
        "# 로그 레벨 INFO로 설정 (진행 상황 표시 강화)\n",
        "optuna.logging.set_verbosity(optuna.logging.INFO)\n",
        "\n",
        "def objective(trial):\n",
        "    n_estimators = trial.suggest_int('n_estimators', 100, 500)\n",
        "    max_depth = trial.suggest_int('max_depth', 5, 30)\n",
        "    min_samples_split = trial.suggest_int('min_samples_split', 2, 20)\n",
        "    min_samples_leaf = trial.suggest_int('min_samples_leaf', 1, 10)\n",
        "\n",
        "    rf = RandomForestRegressor(\n",
        "        n_estimators=n_estimators,\n",
        "        max_depth=max_depth,\n",
        "        min_samples_split=min_samples_split,\n",
        "        min_samples_leaf=min_samples_leaf,\n",
        "        random_state=42\n",
        "    )\n",
        "\n",
        "    scores = cross_val_score(rf, X_train, y_train, cv=3, scoring='neg_mean_squared_error')\n",
        "    return -scores.mean()\n",
        "\n",
        "def print_progress(study, trial):\n",
        "    print(f\"Trial {trial.number}: MSE={trial.value:.4f}, Params={trial.params}\")\n",
        "\n",
        "study = optuna.create_study(direction='minimize')\n",
        "study.optimize(objective, n_trials=20, callbacks=[print_progress])\n",
        "\n",
        "print('Best params:', study.best_params)\n",
        "\n",
        "\n",
        "\n"
      ]
    },
    {
      "cell_type": "code",
      "execution_count": null,
      "metadata": {
        "colab": {
          "base_uri": "https://localhost:8080/"
        },
        "id": "CFui7FV9z0iQ",
        "outputId": "379721f6-3ce7-48ac-9c99-24d6b8e411fe"
      },
      "outputs": [
        {
          "name": "stdout",
          "output_type": "stream",
          "text": [
            "튜닝된 모델 MSE: 157.5143\n",
            "튜닝된 모델 R2: 0.7644\n"
          ]
        }
      ],
      "source": [
        "best_params = study.best_params\n",
        "\n",
        "best_rf = RandomForestRegressor(\n",
        "    n_estimators=best_params['n_estimators'],\n",
        "    max_depth=best_params['max_depth'],\n",
        "    min_samples_split=best_params['min_samples_split'],\n",
        "    min_samples_leaf=best_params['min_samples_leaf'],\n",
        "    random_state=42\n",
        ")\n",
        "\n",
        "best_rf.fit(X_train, y_train)\n",
        "pred = best_rf.predict(X_val)\n",
        "\n",
        "from sklearn.metrics import mean_squared_error, r2_score\n",
        "print(f\"튜닝된 모델 MSE: {mean_squared_error(y_val, pred):.4f}\")\n",
        "print(f\"튜닝된 모델 R2: {r2_score(y_val, pred):.4f}\")\n"
      ]
    },
    {
      "cell_type": "markdown",
      "metadata": {},
      "source": [
        "1. 데이터증강후 결과(랜덤포래스트)\n",
        "(1) MSE : 464 -> 157로 크게 감소\n",
        " - 오차가 3배이상 줄어든것으로 모델이 예측값을 실제값에 훨씬 더 가깝게 맞추고 있음\n",
        "(2) R^2(결정계수) : 0.7644 -> 전체 약76%의 변동을 설명 가능\n"
      ]
    },
    {
      "cell_type": "code",
      "execution_count": null,
      "metadata": {
        "colab": {
          "base_uri": "https://localhost:8080/"
        },
        "id": "_sIuHc1p1d5b",
        "outputId": "e50990e8-a6fd-4193-a800-9824a46e28c0"
      },
      "outputs": [
        {
          "name": "stdout",
          "output_type": "stream",
          "text": [
            "✅ 제출 파일 생성 완료: final_submission.csv\n"
          ]
        }
      ],
      "source": [
        "# 테스트 데이터 로드\n",
        "test_df = pd.read_csv('/content/drive/MyDrive/Boostup2025/test.csv')\n",
        "test_df.columns = ['ID', 'Canonical_Smiles']\n",
        "X_test = np.array([smiles_to_morgan(smi) for smi in test_df['Canonical_Smiles']])\n",
        "\n",
        "# 3. 예측 수행\n",
        "test_pred = best_rf.predict(X_test)\n",
        "\n",
        "# 4. sample_submission.csv 불러오기\n",
        "submission = pd.read_csv('/content/drive/MyDrive/Boostup2025/sample_submission.csv')\n",
        "\n",
        "# 5. 예측 결과 삽입\n",
        "submission['Inhibition'] = test_pred\n",
        "\n",
        "# 6. 파일 저장\n",
        "submission.to_csv('/content/drive/MyDrive/Boostup2025/final_submission.csv', index=False)\n",
        "\n",
        "print(\"✅ 제출 파일 생성 완료: final_submission.csv\")\n",
        "\n",
        "\n"
      ]
    }
  ],
  "metadata": {
    "accelerator": "GPU",
    "colab": {
      "gpuType": "T4",
      "provenance": []
    },
    "kernelspec": {
      "display_name": "Python 3",
      "name": "python3"
    },
    "language_info": {
      "name": "python"
    }
  },
  "nbformat": 4,
  "nbformat_minor": 0
}
